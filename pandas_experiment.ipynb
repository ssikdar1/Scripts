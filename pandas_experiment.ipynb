{
 "cells": [
  {
   "cell_type": "code",
   "execution_count": 1,
   "metadata": {
    "collapsed": false
   },
   "outputs": [],
   "source": [
    "%matplotlib inline\n",
    "import pandas\n",
    "import json"
   ]
  },
  {
   "cell_type": "code",
   "execution_count": 2,
   "metadata": {
    "collapsed": false
   },
   "outputs": [
    {
     "data": {
      "text/plain": [
       "<matplotlib.axes._subplots.AxesSubplot at 0x1079d4b90>"
      ]
     },
     "execution_count": 2,
     "metadata": {},
     "output_type": "execute_result"
    },
    {
     "data": {
      "image/png": "[encoded data removed]",
      "text/plain": [
       "<matplotlib.figure.Figure at 0x103b46e90>"
      ]
     },
     "metadata": {},
     "output_type": "display_data"
    }
   ],
   "source": [
    "df1 = pandas.read_json('~/Downloads/footfall.json')\n",
    "df1['footfall'] =  pandas.to_datetime(df1['footfallTime'],infer_datetime_format=True)\n",
    "df1['footfall_day'] = df1['footfall'].dt.day\n",
    "\n",
    "df1#.set_index('footfall')\n",
    "\n",
    "#2017-09-09T15:50:35Z\n",
    "# counts day, entry or exit\n",
    "df = pandas.DataFrame({'day': df1.footfall_day, 'enOrEx': df1.entryOrExit})\n",
    "countsByDay = df.groupby(['day', 'enOrEx']).size()\n",
    "countsByDay.plot(kind='bar')"
   ]
  },
  {
   "cell_type": "code",
   "execution_count": 3,
   "metadata": {
    "collapsed": false
   },
   "outputs": [
    {
     "data": {
      "text/plain": [
       "<matplotlib.axes._subplots.AxesSubplot at 0x1079d3c50>"
      ]
     },
     "execution_count": 3,
     "metadata": {},
     "output_type": "execute_result"
    },
    {
     "data": {
      "image/png": "[encoded data removed]",
      "text/plain": [
       "<matplotlib.figure.Figure at 0x1079d3850>"
      ]
     },
     "metadata": {},
     "output_type": "display_data"
    }
   ],
   "source": [
    "# counts day, entry/exit combined\n",
    "df1.groupby('footfall_day').aggregate('count')['entryOrExit'].plot(kind='bar')"
   ]
  },
  {
   "cell_type": "code",
   "execution_count": 4,
   "metadata": {
    "collapsed": false
   },
   "outputs": [
    {
     "data": {
      "text/plain": [
       "placeID                               footfall_day\n",
       "0328eb4b-fcd2-40f8-a71c-3f0833c57c9e  1                  9\n",
       "                                      4                  4\n",
       "                                      5                 11\n",
       "                                      6                  4\n",
       "                                      7                  2\n",
       "                                      8                  2\n",
       "                                      9                  1\n",
       "                                      10                 6\n",
       "                                      11                 7\n",
       "                                      12                 9\n",
       "                                      13                35\n",
       "                                      14                51\n",
       "                                      15                59\n",
       "                                      16                35\n",
       "                                      17                14\n",
       "                                      18                12\n",
       "                                      19                 6\n",
       "                                      20                 2\n",
       "                                      21                 1\n",
       "                                      22                 1\n",
       "                                      23                 1\n",
       "                                      24                 1\n",
       "                                      25                 2\n",
       "                                      27                 5\n",
       "                                      28                 1\n",
       "                                      29                 5\n",
       "                                      30                 1\n",
       "                                      31                 7\n",
       "1ks11ec001                            1                  1\n",
       "                                      2                  1\n",
       "                                      4                  1\n",
       "                                      9               3420\n",
       "                                      10               655\n",
       "                                      11               161\n",
       "                                      13                 1\n",
       "                                      14                 2\n",
       "B-1234567890                          2                  1\n",
       "                                      5                  1\n",
       "                                      7                  2\n",
       "                                      13                 1\n",
       "                                      14                 5\n",
       "                                      15                18\n",
       "                                      16                 6\n",
       "                                      17                 1\n",
       "                                      18                 3\n",
       "                                      19                 4\n",
       "                                      20                 2\n",
       "                                      21                 2\n",
       "                                      22                 3\n",
       "                                      23                 5\n",
       "                                      24                 1\n",
       "                                      25                 1\n",
       "                                      26                 3\n",
       "                                      27                 1\n",
       "e705b17a-871e-43b2-9846-d56d08d03dd5  7                  1\n",
       "                                      13                19\n",
       "                                      20                 6\n",
       "f9889cd3-7ad0-42ae-9eec-f102505bde84  11                 3\n",
       "                                      20                 1\n",
       "                                      21                 1\n",
       "Name: entryOrExit, dtype: int64"
      ]
     },
     "execution_count": 4,
     "metadata": {},
     "output_type": "execute_result"
    }
   ],
   "source": [
    "df1['placeID'].unique()\n",
    "df1.groupby(['placeID','footfall_day']).aggregate('count')['entryOrExit']"
   ]
  },
  {
   "cell_type": "code",
   "execution_count": 5,
   "metadata": {
    "collapsed": false
   },
   "outputs": [
    {
     "data": {
      "text/html": [
       "<div>\n",
       "<table border=\"1\" class=\"dataframe\">\n",
       "  <thead>\n",
       "    <tr style=\"text-align: right;\">\n",
       "      <th></th>\n",
       "      <th>all</th>\n",
       "      <th>createTime</th>\n",
       "      <th>doorSensorID</th>\n",
       "      <th>entryOrExit</th>\n",
       "      <th>footfallID</th>\n",
       "      <th>footfallTime</th>\n",
       "      <th>placeID</th>\n",
       "      <th>source</th>\n",
       "      <th>updateTime</th>\n",
       "    </tr>\n",
       "  </thead>\n",
       "  <tbody>\n",
       "    <tr>\n",
       "      <th>0</th>\n",
       "      <td>All</td>\n",
       "      <td>2017-09-14T05:13:17.163Z</td>\n",
       "      <td>1112</td>\n",
       "      <td>Exit</td>\n",
       "      <td>9e0cd752-e2f9-4530-a678-40e1e6a38df9</td>\n",
       "      <td>2017-09-09T15:50:35Z</td>\n",
       "      <td>1ks11ec001</td>\n",
       "      <td>DorSensor</td>\n",
       "      <td>2017-09-14T05:13:17.163Z</td>\n",
       "    </tr>\n",
       "  </tbody>\n",
       "</table>\n",
       "</div>"
      ],
      "text/plain": [
       "   all                createTime  doorSensorID entryOrExit  \\\n",
       "0  All  2017-09-14T05:13:17.163Z          1112        Exit   \n",
       "\n",
       "                             footfallID          footfallTime     placeID  \\\n",
       "0  9e0cd752-e2f9-4530-a678-40e1e6a38df9  2017-09-09T15:50:35Z  1ks11ec001   \n",
       "\n",
       "      source                updateTime  \n",
       "0  DorSensor  2017-09-14T05:13:17.163Z  "
      ]
     },
     "execution_count": 5,
     "metadata": {},
     "output_type": "execute_result"
    }
   ],
   "source": [
    "# WHERE is becaon Id?\n",
    "jsonstr = \"\"\"[{\"footfallTime\": \"2017-09-09T15:50:35Z\", \"all\": \"All\", \"entryOrExit\": \"Exit\", \n",
    "\"footfallID\": \"9e0cd752-e2f9-4530-a678-40e1e6a38df9\", \"updateTime\": \"2017-09-14T05:13:17.163Z\", \n",
    "\"createTime\": \"2017-09-14T05:13:17.163Z\", \"placeID\": \"1ks11ec001\", \"source\": \"DorSensor\", \"doorSensorID\": \"1112\"}]\"\"\"\n",
    "pandas.read_json(jsonstr)"
   ]
  },
  {
   "cell_type": "code",
   "execution_count": null,
   "metadata": {
    "collapsed": true
   },
   "outputs": [],
   "source": []
  }
 ],
 "metadata": {
  "kernelspec": {
   "display_name": "Python 2",
   "language": "python",
   "name": "python2"
  },
  "language_info": {
   "codemirror_mode": {
    "name": "ipython",
    "version": 2
   },
   "file_extension": ".py",
   "mimetype": "text/x-python",
   "name": "python",
   "nbconvert_exporter": "python",
   "pygments_lexer": "ipython2",
   "version": "2.7.10"
  }
 },
 "nbformat": 4,
 "nbformat_minor": 0
}
